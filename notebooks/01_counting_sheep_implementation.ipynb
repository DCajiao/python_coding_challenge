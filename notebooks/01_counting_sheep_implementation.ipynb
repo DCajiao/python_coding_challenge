{
 "cells": [
  {
   "cell_type": "markdown",
   "metadata": {},
   "source": [
    "### **Counting Sheep - Python Implementation**\n",
    "\n",
    "This notebook provides the implementation for the \"Counting Sheep\" challenge. The problem consists of helping Bleatrix, a sheep with insomnia, by counting multiples of a number `N` until she has seen all digits (0-9) at least once, or determining that it is impossible (resulting in insomnia). \n",
    "\n",
    "We will build functions in Python to process test cases where Bleatrix chooses a number `N`, and for each case, determine the last number Bleatrix counts before falling asleep or if she suffers from insomnia.\n",
    "\n",
    "The notebook imports necessary functions from `src/sheepfunctions.py` and processes the provided input data, producing the required outputs in the `output/` directory."
   ]
  },
  {
   "cell_type": "code",
   "execution_count": null,
   "metadata": {},
   "outputs": [],
   "source": []
  }
 ],
 "metadata": {
  "kernelspec": {
   "display_name": "python-coding-challenge-E8Hfbvq1-py3.12",
   "language": "python",
   "name": "python3"
  },
  "language_info": {
   "name": "python",
   "version": "3.12.1"
  }
 },
 "nbformat": 4,
 "nbformat_minor": 2
}
